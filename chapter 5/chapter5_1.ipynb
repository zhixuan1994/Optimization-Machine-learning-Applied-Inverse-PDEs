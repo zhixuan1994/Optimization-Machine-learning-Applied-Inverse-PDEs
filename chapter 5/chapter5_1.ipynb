{
  "cells": [
    {
      "cell_type": "code",
      "execution_count": null,
      "id": "7dd6a7c5",
      "metadata": {
        "id": "7dd6a7c5"
      },
      "outputs": [],
      "source": [
        "import pde\n",
        "from pde import PDE, CartesianGrid, MemoryStorage, ScalarField, plot_kymograph\n",
        "import numpy as np\n",
        "import matplotlib.pyplot as plt\n",
        "from sklearn.metrics import mean_squared_error"
      ]
    },
    {
      "cell_type": "code",
      "execution_count": null,
      "id": "b79d180a",
      "metadata": {
        "id": "b79d180a"
      },
      "outputs": [],
      "source": [
        "# Important: t>0, u_x, u_xx output u[1:-1]\n",
        "# Derivative formula: forward in time, central in space\n",
        "def u_x(u, t, h):\n",
        "    u_at_t = u[t]\n",
        "    return (u_at_t[2:] - u_at_t[:-2]) / (2*h)\n",
        "\n",
        "def u_xx(u, t, h):\n",
        "    u_at_t = u[t]\n",
        "    return (u_at_t[2:] - 2*u_at_t[1:-1] + u_at_t[:-2]) / h**2\n",
        "\n",
        "def u_t(u, t, k):\n",
        "    u_at_t1 = u[t]\n",
        "    u_at_t2 = u[t+1]\n",
        "    return (u_at_t2 - u_at_t1)/k\n",
        "\n",
        "def u_tt(u, t, k):\n",
        "    u_at_t1 = u[t]\n",
        "    u_at_t2 = u[t+1]\n",
        "    u_at_t3 = u[t+2]\n",
        "    return (u_at_t3 - 2*u_at_t2 + u_at_t1)/ k**2"
      ]
    },
    {
      "cell_type": "code",
      "execution_count": null,
      "id": "ca3a748b",
      "metadata": {
        "colab": {
          "base_uri": "https://localhost:8080/",
          "height": 300
        },
        "id": "ca3a748b",
        "outputId": "7126ba8d-b204-4a0e-f57e-75791450c7b8"
      },
      "outputs": [
        {
          "output_type": "display_data",
          "data": {
            "text/plain": [
              "<Figure size 432x288 with 2 Axes>"
            ],
            "image/png": "[encoded data removed]"
          },
          "metadata": {
            "needs_background": "light"
          }
        },
        {
          "output_type": "execute_result",
          "data": {
            "text/plain": [
              "<pde.tools.plotting.PlotReference at 0x7f045073de40>"
            ]
          },
          "metadata": {},
          "execution_count": 43
        }
      ],
      "source": [
        "# Example 1\n",
        "eq = PDE({\"u\": \"laplace(u) - u - d_dx(u)\"})\n",
        "grid = CartesianGrid([[-3, 3]], [32], periodic=True)\n",
        "state = ScalarField.from_expression(grid, \"exp(-x**2)\")\n",
        "\n",
        "# solve the equation and store the trajectory\n",
        "storage = MemoryStorage()\n",
        "sol = eq.solve(state, t_range=3, tracker=storage.tracker(0.1))\n",
        "\n",
        "# plot the trajectory as a space-time plot\n",
        "plot_kymograph(storage)"
      ]
    },
    {
      "cell_type": "code",
      "execution_count": null,
      "id": "8cd3f54a",
      "metadata": {
        "id": "8cd3f54a"
      },
      "outputs": [],
      "source": [
        "# Time t from 1 to 2 with increment 0.1\n",
        "t_num = 100\n",
        "x_num = 50\n",
        "grid = CartesianGrid([[-3, 3]], [x_num], periodic=True)\n",
        "state = ScalarField.from_expression(grid, \"exp(-x**2)\")\n",
        "x_tr = ScalarField.from_expression(grid, \"x\").data\n",
        "t_li = np.linspace(1,2,t_num)"
      ]
    },
    {
      "cell_type": "code",
      "execution_count": null,
      "id": "b3f4ff39",
      "metadata": {
        "id": "b3f4ff39"
      },
      "outputs": [],
      "source": [
        "%%capture test\n",
        "data_pypde = []\n",
        "for t in t_li:\n",
        "    result = eq.solve(state, t_range=t)\n",
        "    data_pypde.append(result.data)"
      ]
    },
    {
      "cell_type": "code",
      "execution_count": null,
      "id": "cb2677c5",
      "metadata": {
        "colab": {
          "base_uri": "https://localhost:8080/"
        },
        "id": "cb2677c5",
        "outputId": "569d4fea-b066-4772-816a-713479af0251"
      },
      "outputs": [
        {
          "output_type": "stream",
          "name": "stdout",
          "text": [
            "0.0056913635349633744\n",
            "0.0033085816983371708\n",
            "0.0014831479858479963\n",
            "0.0029238352612319866\n",
            "0.004267422991632419\n",
            "0.0032993689766414513\n",
            "0.0031747690059017856\n",
            "0.001170241542700609\n",
            "0.005242362679502922\n"
          ]
        }
      ],
      "source": [
        "pypde_performance = []\n",
        "data_pypde = np.asarray(data_pypde)\n",
        "t_test = np.linspace(0, 100, 11)[1:-1]\n",
        "for t in t_test:\n",
        "    t = int(t)\n",
        "    uxx = u_xx(data_pypde, t, x_tr[1] - x_tr[0])\n",
        "    ux = u_x(data_pypde, t, x_tr[1] - x_tr[0])\n",
        "    ut = u_t(data_pypde, t, t_li[1] - t_li[0])[1:-1]\n",
        "    utt = u_tt(data_pypde, t, t_li[1] - t_li[0])[1:-1]\n",
        "    u = data_pypde[t, 1:-1]\n",
        "    print(mean_squared_error(ut, uxx - u - ux, squared = False))\n"
      ]
    },
    {
      "cell_type": "code",
      "execution_count": null,
      "id": "0eea0f51",
      "metadata": {
        "id": "0eea0f51"
      },
      "outputs": [],
      "source": [
        "# Time t from 4 to 5 with increment 0.1\n",
        "t_num = 100\n",
        "x_num = 50\n",
        "grid = CartesianGrid([[-3, 3]], [x_num], periodic=True)\n",
        "state = ScalarField.from_expression(grid, \"exp(-x**2)\")\n",
        "x_tr = ScalarField.from_expression(grid, \"x\").data\n",
        "t_li = np.linspace(4,5,t_num)"
      ]
    },
    {
      "cell_type": "code",
      "execution_count": null,
      "id": "a863089a",
      "metadata": {
        "id": "a863089a"
      },
      "outputs": [],
      "source": [
        "%%capture test\n",
        "data_pypde = []\n",
        "for t in t_li:\n",
        "    result = eq.solve(state, t_range=t)\n",
        "    data_pypde.append(result.data)"
      ]
    },
    {
      "cell_type": "code",
      "execution_count": null,
      "id": "400e947a",
      "metadata": {
        "colab": {
          "base_uri": "https://localhost:8080/"
        },
        "id": "400e947a",
        "outputId": "538c8c39-a241-45ff-a95e-c9aba574d8a2"
      },
      "outputs": [
        {
          "output_type": "stream",
          "name": "stdout",
          "text": [
            "0.00042463203274700366\n",
            "0.0006231291289874704\n",
            "0.0004449161214656123\n",
            "0.0001823090849958594\n",
            "0.000344312297000611\n",
            "0.0003341990670715963\n",
            "0.0004645927342924228\n",
            "0.00037639196694258417\n",
            "7.941513819898525e-05\n"
          ]
        }
      ],
      "source": [
        "data_pypde = np.asarray(data_pypde)\n",
        "t_test = np.linspace(0, 100, 11)[1:-1]\n",
        "for t in t_test:\n",
        "    t = int(t)\n",
        "    uxx = u_xx(data_pypde, t, x_tr[1] - x_tr[0])\n",
        "    ux = u_x(data_pypde, t, x_tr[1] - x_tr[0])\n",
        "    ut = u_t(data_pypde, t, t_li[1] - t_li[0])[1:-1]\n",
        "    utt = u_tt(data_pypde, t, t_li[1] - t_li[0])[1:-1]\n",
        "    u = data_pypde[t, 1:-1]\n",
        "    print(mean_squared_error(ut, uxx - u - ux, squared = False))\n"
      ]
    },
    {
      "cell_type": "code",
      "execution_count": null,
      "id": "fa8d7e13",
      "metadata": {
        "colab": {
          "base_uri": "https://localhost:8080/",
          "height": 300
        },
        "id": "fa8d7e13",
        "outputId": "97aac7d1-4630-4ca0-86c2-a181c8e584e9"
      },
      "outputs": [
        {
          "output_type": "display_data",
          "data": {
            "text/plain": [
              "<Figure size 432x288 with 2 Axes>"
            ],
            "image/png": "[encoded data removed]"
          },
          "metadata": {
            "needs_background": "light"
          }
        },
        {
          "output_type": "execute_result",
          "data": {
            "text/plain": [
              "<pde.tools.plotting.PlotReference at 0x7f0454023800>"
            ]
          },
          "metadata": {},
          "execution_count": 50
        }
      ],
      "source": [
        "# Example 2\n",
        "eq = PDE({\"u\": \"laplace(u) + u*(1-u)\"})\n",
        "grid = CartesianGrid([[-3, 3]], [32], periodic=True)\n",
        "state = ScalarField.from_expression(grid, \"1/(1+exp(5*x))\")\n",
        "\n",
        "# solve the equation and store the trajectory\n",
        "storage = MemoryStorage()\n",
        "sol = eq.solve(state, t_range=3, tracker=storage.tracker(0.1))\n",
        "\n",
        "# plot the trajectory as a space-time plot\n",
        "plot_kymograph(storage)"
      ]
    },
    {
      "cell_type": "code",
      "execution_count": null,
      "id": "f2e42e1a",
      "metadata": {
        "id": "f2e42e1a"
      },
      "outputs": [],
      "source": [
        "t_num = 100\n",
        "x_num = 50\n",
        "\n",
        "grid = CartesianGrid([[-3, 3]], [x_num], periodic=True)\n",
        "state = ScalarField.from_expression(grid, \"1/(1+exp(5*x))\")\n",
        "\n",
        "x_tr = ScalarField.from_expression(grid, \"x\").data\n",
        "t_li = np.linspace(1,2,t_num)"
      ]
    },
    {
      "cell_type": "code",
      "execution_count": null,
      "id": "c2a54b94",
      "metadata": {
        "id": "c2a54b94"
      },
      "outputs": [],
      "source": [
        "%%capture test\n",
        "data_pypde = []\n",
        "for t in t_li:\n",
        "    result = eq.solve(state, t_range=t)\n",
        "    data_pypde.append(result.data)"
      ]
    },
    {
      "cell_type": "code",
      "execution_count": null,
      "id": "860ac37f",
      "metadata": {
        "colab": {
          "base_uri": "https://localhost:8080/"
        },
        "id": "860ac37f",
        "outputId": "78e6fd25-dea6-4a5a-d9f7-48872cba9a48"
      },
      "outputs": [
        {
          "output_type": "stream",
          "name": "stdout",
          "text": [
            "0.02599555087929085\n",
            "0.14186744574747773\n",
            "0.1272350953709989\n",
            "0.03520684424996161\n",
            "0.06512254550146135\n",
            "0.04760674203793773\n",
            "0.0327025040603142\n",
            "0.11126597251696393\n",
            "0.1241355016836042\n"
          ]
        }
      ],
      "source": [
        "data_pypde = np.asarray(data_pypde)\n",
        "t_test = np.linspace(0, 100, 11)[1:-1]\n",
        "for t in t_test:\n",
        "    t = int(t)\n",
        "    uxx = u_xx(data_pypde, t, x_tr[1] - x_tr[0])\n",
        "    ux = u_x(data_pypde, t, x_tr[1] - x_tr[0])\n",
        "    ut = u_t(data_pypde, t, t_li[1] - t_li[0])[1:-1]\n",
        "    utt = u_tt(data_pypde, t, t_li[1] - t_li[0])[1:-1]\n",
        "    u = data_pypde[t, 1:-1]\n",
        "    print(mean_squared_error(ut, uxx + u*(1-u), squared = False))"
      ]
    },
    {
      "cell_type": "code",
      "execution_count": null,
      "id": "002d7fc8",
      "metadata": {
        "id": "002d7fc8"
      },
      "outputs": [],
      "source": [
        "t_num = 100\n",
        "x_num = 50\n",
        "\n",
        "grid = CartesianGrid([[-3, 3]], [x_num], periodic=True)\n",
        "state = ScalarField.from_expression(grid, \"1/(1+exp(5*x))\")\n",
        "\n",
        "x_tr = ScalarField.from_expression(grid, \"x\").data\n",
        "t_li = np.linspace(4,5,t_num)"
      ]
    },
    {
      "cell_type": "code",
      "execution_count": null,
      "id": "fbf7fe18",
      "metadata": {
        "id": "fbf7fe18"
      },
      "outputs": [],
      "source": [
        "%%capture test\n",
        "data_pypde = []\n",
        "for t in t_li:\n",
        "    result = eq.solve(state, t_range=t)\n",
        "    data_pypde.append(result.data)"
      ]
    },
    {
      "cell_type": "code",
      "execution_count": null,
      "id": "2bf63b6b",
      "metadata": {
        "colab": {
          "base_uri": "https://localhost:8080/"
        },
        "id": "2bf63b6b",
        "outputId": "4e41c290-2b13-47b4-e17c-eac5c00fdfe4"
      },
      "outputs": [
        {
          "output_type": "stream",
          "name": "stdout",
          "text": [
            "0.03131702846675222\n",
            "0.08663545121832965\n",
            "0.03144449961413503\n",
            "0.046021546745091645\n",
            "0.09891498731030496\n",
            "0.20613713331991548\n",
            "0.05472876456896084\n",
            "0.04071214499815743\n",
            "0.10517195376441973\n"
          ]
        }
      ],
      "source": [
        "data_pypde = np.asarray(data_pypde)\n",
        "t_test = np.linspace(0, 100, 11)[1:-1]\n",
        "for t in t_test:\n",
        "    t = int(t)\n",
        "    uxx = u_xx(data_pypde, t, x_tr[1] - x_tr[0])\n",
        "    ux = u_x(data_pypde, t, x_tr[1] - x_tr[0])\n",
        "    ut = u_t(data_pypde, t, t_li[1] - t_li[0])[1:-1]\n",
        "    utt = u_tt(data_pypde, t, t_li[1] - t_li[0])[1:-1]\n",
        "    u = data_pypde[t, 1:-1]\n",
        "    print(mean_squared_error(ut, uxx + u*(1-u), squared = False))\n"
      ]
    },
    {
      "cell_type": "code",
      "execution_count": null,
      "id": "a6aac8bc",
      "metadata": {
        "colab": {
          "base_uri": "https://localhost:8080/",
          "height": 300
        },
        "id": "a6aac8bc",
        "outputId": "e36ae784-e611-4cc0-cd69-698e293f55a2"
      },
      "outputs": [
        {
          "output_type": "display_data",
          "data": {
            "text/plain": [
              "<Figure size 432x288 with 2 Axes>"
            ],
            "image/png": "[encoded data removed]"
          },
          "metadata": {
            "needs_background": "light"
          }
        },
        {
          "output_type": "execute_result",
          "data": {
            "text/plain": [
              "<pde.tools.plotting.PlotReference at 0x7f0450b5b540>"
            ]
          },
          "metadata": {},
          "execution_count": 57
        }
      ],
      "source": [
        "# Example 3\n",
        "eq = PDE({\"u\": \"laplace(u) - u*d_dx(u)\"})\n",
        "grid = CartesianGrid([[-3, 3]], [32], periodic=True)\n",
        "state = ScalarField.from_expression(grid, \"1/(1+exp(x))\")\n",
        "\n",
        "# solve the equation and store the trajectory\n",
        "storage = MemoryStorage()\n",
        "sol = eq.solve(state, t_range=3, tracker=storage.tracker(0.1))\n",
        "\n",
        "# plot the trajectory as a space-time plot\n",
        "plot_kymograph(storage)"
      ]
    },
    {
      "cell_type": "code",
      "execution_count": null,
      "id": "2741a061",
      "metadata": {
        "id": "2741a061"
      },
      "outputs": [],
      "source": [
        "t_num = 100\n",
        "x_num = 50\n",
        "\n",
        "grid = CartesianGrid([[-3, 3]], [x_num], periodic=True)\n",
        "state = ScalarField.from_expression(grid, \"1/(1+exp(x))\")\n",
        "\n",
        "x_tr = ScalarField.from_expression(grid, \"x\").data\n",
        "t_li = np.linspace(1,2,t_num)"
      ]
    },
    {
      "cell_type": "code",
      "execution_count": null,
      "id": "5cff5cdc",
      "metadata": {
        "id": "5cff5cdc"
      },
      "outputs": [],
      "source": [
        "%%capture test\n",
        "data_pypde = []\n",
        "for t in t_li:\n",
        "    result = eq.solve(state, t_range=t)\n",
        "    data_pypde.append(result.data)"
      ]
    },
    {
      "cell_type": "code",
      "execution_count": null,
      "id": "94839bfe",
      "metadata": {
        "colab": {
          "base_uri": "https://localhost:8080/"
        },
        "id": "94839bfe",
        "outputId": "39ba421f-01a1-4299-e01b-0ee00fd15ac2"
      },
      "outputs": [
        {
          "output_type": "stream",
          "name": "stdout",
          "text": [
            "0.03156001682504463\n",
            "0.04007150376501241\n",
            "0.029097367093922948\n",
            "0.04258647348762849\n",
            "0.01735008052252762\n",
            "0.01955508435054372\n",
            "0.048887534738698196\n",
            "0.03355646515841184\n",
            "0.037068416896497466\n"
          ]
        }
      ],
      "source": [
        "data_pypde = np.asarray(data_pypde)\n",
        "t_test = np.linspace(0, 100, 11)[1:-1]\n",
        "for t in t_test:\n",
        "    t = int(t)\n",
        "    uxx = u_xx(data_pypde, t, x_tr[1] - x_tr[0])\n",
        "    ux = u_x(data_pypde, t, x_tr[1] - x_tr[0])\n",
        "    ut = u_t(data_pypde, t, t_li[1] - t_li[0])[1:-1]\n",
        "    utt = u_tt(data_pypde, t, t_li[1] - t_li[0])[1:-1]\n",
        "    u = data_pypde[t, 1:-1]\n",
        "    print(mean_squared_error(ut, uxx - u*ux, squared = False))"
      ]
    },
    {
      "cell_type": "code",
      "execution_count": null,
      "id": "164aac87",
      "metadata": {
        "id": "164aac87"
      },
      "outputs": [],
      "source": [
        "t_num = 100\n",
        "x_num = 50\n",
        "\n",
        "grid = CartesianGrid([[-3, 3]], [x_num], periodic=True)\n",
        "state = ScalarField.from_expression(grid, \"1/(1+exp(x))\")\n",
        "\n",
        "x_tr = ScalarField.from_expression(grid, \"x\").data\n",
        "t_li = np.linspace(4,5,t_num)"
      ]
    },
    {
      "cell_type": "code",
      "execution_count": null,
      "id": "2fed434d",
      "metadata": {
        "id": "2fed434d"
      },
      "outputs": [],
      "source": [
        "%%capture test\n",
        "data_pypde = []\n",
        "for t in t_li:\n",
        "    result = eq.solve(state, t_range=t)\n",
        "    data_pypde.append(result.data)"
      ]
    },
    {
      "cell_type": "code",
      "execution_count": null,
      "id": "90ea00c8",
      "metadata": {
        "colab": {
          "base_uri": "https://localhost:8080/"
        },
        "id": "90ea00c8",
        "outputId": "70250154-beda-4ebd-e9be-4d69cf3049f0"
      },
      "outputs": [
        {
          "output_type": "stream",
          "name": "stdout",
          "text": [
            "0.03501869539423099\n",
            "0.07476458927433664\n",
            "0.03180267179275083\n",
            "0.024704720571292707\n",
            "0.019177689955619866\n",
            "0.05840750638262899\n",
            "0.039852295884264914\n",
            "0.012380933448384146\n",
            "0.03055600193980842\n"
          ]
        }
      ],
      "source": [
        "data_pypde = np.asarray(data_pypde)\n",
        "t_test = np.linspace(0, 100, 11)[1:-1]\n",
        "for t in t_test:\n",
        "    t = int(t)\n",
        "    uxx = u_xx(data_pypde, t, x_tr[1] - x_tr[0])\n",
        "    ux = u_x(data_pypde, t, x_tr[1] - x_tr[0])\n",
        "    ut = u_t(data_pypde, t, t_li[1] - t_li[0])[1:-1]\n",
        "    utt = u_tt(data_pypde, t, t_li[1] - t_li[0])[1:-1]\n",
        "    u = data_pypde[t, 1:-1]\n",
        "    print(mean_squared_error(ut, uxx - u*ux, squared = False))"
      ]
    },
    {
      "cell_type": "code",
      "execution_count": null,
      "id": "dc92060f",
      "metadata": {
        "id": "dc92060f"
      },
      "outputs": [],
      "source": []
    }
  ],
  "metadata": {
    "kernelspec": {
      "display_name": "Python 3 (ipykernel)",
      "language": "python",
      "name": "python3"
    },
    "language_info": {
      "codemirror_mode": {
        "name": "ipython",
        "version": 3
      },
      "file_extension": ".py",
      "mimetype": "text/x-python",
      "name": "python",
      "nbconvert_exporter": "python",
      "pygments_lexer": "ipython3",
      "version": "3.9.15"
    },
    "colab": {
      "provenance": []
    }
  },
  "nbformat": 4,
  "nbformat_minor": 5
}